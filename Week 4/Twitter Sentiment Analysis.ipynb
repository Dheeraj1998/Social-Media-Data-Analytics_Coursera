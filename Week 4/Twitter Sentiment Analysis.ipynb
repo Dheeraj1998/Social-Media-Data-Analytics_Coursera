{
 "cells": [
  {
   "cell_type": "markdown",
   "metadata": {},
   "source": [
    "# Twitter Sentiment Analysis"
   ]
  },
  {
   "cell_type": "markdown",
   "metadata": {},
   "source": [
    "## Importing libraries"
   ]
  },
  {
   "cell_type": "code",
   "execution_count": 1,
   "metadata": {},
   "outputs": [],
   "source": [
    "from textblob import TextBlob\n",
    "import csv\n",
    "import tweepy\n",
    "import unidecode\n",
    "import matplotlib.pyplot as plt\n",
    "import pandas as pd"
   ]
  },
  {
   "cell_type": "markdown",
   "metadata": {},
   "source": [
    "## Authentication (Twitter API)"
   ]
  },
  {
   "cell_type": "code",
   "execution_count": 2,
   "metadata": {},
   "outputs": [],
   "source": [
    "f = open('auth.k','r')\n",
    "ak = f.readlines()\n",
    "f.close()\n",
    "auth1 = tweepy.auth.OAuthHandler(ak[0].replace(\"\\n\",\"\"), ak[1].replace(\"\\n\",\"\"))\n",
    "auth1.set_access_token(ak[2].replace(\"\\n\",\"\"), ak[3].replace(\"\\n\",\"\"))\n",
    "api = tweepy.API(auth1)"
   ]
  },
  {
   "cell_type": "markdown",
   "metadata": {},
   "source": [
    "## Initialising the parameters"
   ]
  },
  {
   "cell_type": "code",
   "execution_count": 3,
   "metadata": {},
   "outputs": [],
   "source": [
    "target_num = 50\n",
    "query = \"olympics\""
   ]
  },
  {
   "cell_type": "markdown",
   "metadata": {},
   "source": [
    "## Main routine"
   ]
  },
  {
   "cell_type": "code",
   "execution_count": 4,
   "metadata": {},
   "outputs": [],
   "source": [
    "csvFile = open('results_olympics.csv','w')\n",
    "csvWriter = csv.writer(csvFile)\n",
    "csvWriter.writerow([\"username\",\"author id\",\"created\", \"text\", \"retwc\", \"hashtag\", \"followers\", \"friends\",\"polarity\",\"subjectivity\"])\n",
    "counter = 0\n",
    "\n",
    "for tweet in tweepy.Cursor(api.search, q = query, lang = \"en\", result_type = \"popular\", count = target_num).items():\n",
    "    created = tweet.created_at\n",
    "    text = tweet.text\n",
    "    text = unidecode.unidecode(text) \n",
    "    retwc = tweet.retweet_count\n",
    "    try:\n",
    "        hashtag = tweet.entities[u'hashtags'][0][u'text'] #hashtags used\n",
    "    except:\n",
    "        hashtag = \"None\"\n",
    "    username  = tweet.author.name            #author/user name\n",
    "    authorid  = tweet.author.id              #author/user ID#\n",
    "    followers = tweet.author.followers_count #number of author/user followers (inlink)\n",
    "    friends = tweet.author.friends_count     #number of author/user friends (outlink)\n",
    "\n",
    "    text_blob = TextBlob(text)\n",
    "    polarity = text_blob.polarity\n",
    "    subjectivity = text_blob.subjectivity\n",
    "    csvWriter.writerow([username, authorid, created, text, retwc, hashtag, followers, friends, polarity, subjectivity])\n",
    "\n",
    "    counter = counter + 1\n",
    "    if (counter == target_num):\n",
    "        break\n",
    "\n",
    "csvFile.close()"
   ]
  },
  {
   "cell_type": "markdown",
   "metadata": {},
   "source": [
    "## Analysis about the computed result"
   ]
  },
  {
   "cell_type": "markdown",
   "metadata": {},
   "source": [
    "### Loading the CSV file"
   ]
  },
  {
   "cell_type": "code",
   "execution_count": 5,
   "metadata": {},
   "outputs": [],
   "source": [
    "twitter_data = pd.read_csv('results_olympics.csv')"
   ]
  },
  {
   "cell_type": "markdown",
   "metadata": {},
   "source": [
    "### Corelation about the twitter data"
   ]
  },
  {
   "cell_type": "code",
   "execution_count": 6,
   "metadata": {},
   "outputs": [
    {
     "name": "stdout",
     "output_type": "stream",
     "text": [
      "              author id     retwc  followers   friends  polarity  subjectivity\n",
      "author id      1.000000 -0.069119  -0.048261 -0.091687  0.083469     -0.043245\n",
      "retwc         -0.069119  1.000000  -0.040044  0.089613 -0.170261     -0.085740\n",
      "followers     -0.048261 -0.040044   1.000000 -0.095496  0.111333      0.010572\n",
      "friends       -0.091687  0.089613  -0.095496  1.000000  0.017473      0.049648\n",
      "polarity       0.083469 -0.170261   0.111333  0.017473  1.000000      0.593550\n",
      "subjectivity  -0.043245 -0.085740   0.010572  0.049648  0.593550      1.000000\n"
     ]
    }
   ],
   "source": [
    "print(twitter_data.corr())"
   ]
  },
  {
   "cell_type": "markdown",
   "metadata": {},
   "source": [
    "### Plotting the data"
   ]
  },
  {
   "cell_type": "markdown",
   "metadata": {},
   "source": [
    "#### Scatterplot between the retweets and polarity of data"
   ]
  },
  {
   "cell_type": "code",
   "execution_count": 7,
   "metadata": {},
   "outputs": [
    {
     "data": {
      "image/png": "[encoded data removed]",
      "text/plain": [
       "<matplotlib.figure.Figure at 0x10ffbb390>"
      ]
     },
     "metadata": {},
     "output_type": "display_data"
    }
   ],
   "source": [
    "plt.scatter(twitter_data['retwc'], twitter_data['polarity'])\n",
    "plt.show()"
   ]
  },
  {
   "cell_type": "markdown",
   "metadata": {},
   "source": [
    "This plot shows how the neutral/negative tweets usually get more retweets."
   ]
  },
  {
   "cell_type": "markdown",
   "metadata": {},
   "source": [
    "#### Scatterplot between the retweets and subjectivity of data"
   ]
  },
  {
   "cell_type": "code",
   "execution_count": 8,
   "metadata": {},
   "outputs": [
    {
     "data": {
      "image/png": "[encoded data removed]",
      "text/plain": [
       "<matplotlib.figure.Figure at 0x10ffbb828>"
      ]
     },
     "metadata": {},
     "output_type": "display_data"
    }
   ],
   "source": [
    "plt.scatter(twitter_data['retwc'], twitter_data['polarity'])\n",
    "plt.show()"
   ]
  },
  {
   "cell_type": "markdown",
   "metadata": {},
   "source": [
    "#### Scatterplot between the retweets and higher subjectivity of data"
   ]
  },
  {
   "cell_type": "code",
   "execution_count": 9,
   "metadata": {},
   "outputs": [
    {
     "data": {
      "image/png": "[encoded data removed]",
      "text/plain": [
       "<matplotlib.figure.Figure at 0x1102d4f98>"
      ]
     },
     "metadata": {},
     "output_type": "display_data"
    }
   ],
   "source": [
    "twitter_data_subjective = twitter_data[twitter_data['subjectivity'] > 0.5]\n",
    "plt.scatter(twitter_data_subjective['retwc'], twitter_data_subjective['polarity'])\n",
    "plt.show()"
   ]
  },
  {
   "cell_type": "markdown",
   "metadata": {},
   "source": [
    "This plot kind of shows how more subjective data get higher retweets"
   ]
  }
 ],
 "metadata": {
  "kernelspec": {
   "display_name": "Python 3",
   "language": "python",
   "name": "python3"
  },
  "language_info": {
   "codemirror_mode": {
    "name": "ipython",
    "version": 3
   },
   "file_extension": ".py",
   "mimetype": "text/x-python",
   "name": "python",
   "nbconvert_exporter": "python",
   "pygments_lexer": "ipython3",
   "version": "3.6.1"
  }
 },
 "nbformat": 4,
 "nbformat_minor": 2
}
